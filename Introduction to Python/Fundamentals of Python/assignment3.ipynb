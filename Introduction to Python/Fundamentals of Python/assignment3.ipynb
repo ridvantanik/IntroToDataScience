{
 "cells": [
  {
   "cell_type": "markdown",
   "metadata": {},
   "source": [
    "Kullanıcıdan dosya adını alan ve bu dosya adına \"py\" uzantısı ekleyerek ekrana yazdıran bir kod yazınız."
   ]
  },
  {
   "cell_type": "code",
   "execution_count": 2,
   "metadata": {},
   "outputs": [
    {
     "name": "stdout",
     "output_type": "stream",
     "text": [
      "Please provide a file name : assignment3\n",
      "assignment3.py\n"
     ]
    }
   ],
   "source": [
    "file_name = input('Please provide a file name : ')\n",
    "print(file_name + \".py\")"
   ]
  }
 ],
 "metadata": {
  "kernelspec": {
   "display_name": "Python 3",
   "language": "python",
   "name": "python3"
  },
  "language_info": {
   "codemirror_mode": {
    "name": "ipython",
    "version": 3
   },
   "file_extension": ".py",
   "mimetype": "text/x-python",
   "name": "python",
   "nbconvert_exporter": "python",
   "pygments_lexer": "ipython3",
   "version": "3.8.1"
  }
 },
 "nbformat": 4,
 "nbformat_minor": 4
}
